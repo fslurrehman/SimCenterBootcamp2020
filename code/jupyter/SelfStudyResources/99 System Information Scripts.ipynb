{
 "cells": [
  {
   "cell_type": "markdown",
   "metadata": {},
   "source": [
    "# A Python Quick Start Tutorial - System Information Scripts\n",
    "\n",
    "## by Peter Mackenzie-Helnwein\n",
    "University of Washington, Seattle, WA\n",
    "\n",
    "pmackenz@uw.edu          \n",
    "https://www.ce.washington.edu/facultyfinder/peter-mackenzie-helnwein"
   ]
  },
  {
   "cell_type": "markdown",
   "metadata": {},
   "source": [
    "## System Information"
   ]
  },
  {
   "cell_type": "markdown",
   "metadata": {},
   "source": [
    "### Which operation system"
   ]
  },
  {
   "cell_type": "code",
   "execution_count": 1,
   "metadata": {},
   "outputs": [
    {
     "name": "stdout",
     "output_type": "stream",
     "text": [
      "Windows-10-10.0.18362-SP0\n",
      "Windows\n",
      "cb\n",
      "\n",
      "('10', '10.0.18362', 'SP0', 'Multiprocessor Free')\n",
      "('', ('', '', ''), '')\n"
     ]
    }
   ],
   "source": [
    "import platform\n",
    "\n",
    "print(platform.platform())\n",
    "print(platform.system())\n",
    "print(platform.node())\n",
    "\n",
    "print()\n",
    "\n",
    "print(platform.win32_ver())\n",
    "print(platform.mac_ver())"
   ]
  },
  {
   "cell_type": "markdown",
   "metadata": {},
   "source": [
    "### Hardware information"
   ]
  },
  {
   "cell_type": "code",
   "execution_count": 2,
   "metadata": {},
   "outputs": [
    {
     "name": "stdout",
     "output_type": "stream",
     "text": [
      "('64bit', 'WindowsPE')\n",
      "AMD64\n",
      "Intel64 Family 6 Model 142 Stepping 9, GenuineIntel\n"
     ]
    }
   ],
   "source": [
    "import platform\n",
    "\n",
    "print(platform.architecture())\n",
    "print(platform.machine())\n",
    "print(platform.processor())"
   ]
  },
  {
   "cell_type": "markdown",
   "metadata": {},
   "source": [
    "### uname (summary)"
   ]
  },
  {
   "cell_type": "code",
   "execution_count": 3,
   "metadata": {},
   "outputs": [
    {
     "name": "stdout",
     "output_type": "stream",
     "text": [
      "uname_result(system='Windows', node='cb', release='10', version='10.0.18362', machine='AMD64', processor='Intel64 Family 6 Model 142 Stepping 9, GenuineIntel')\n",
      "\n",
      "sysname -> Windows\n",
      "nodename -> cb\n",
      "release -> 10\n",
      "version -> 10.0.18362\n",
      "root -> AMD64\n",
      "machine -> Intel64 Family 6 Model 142 Stepping 9, GenuineIntel\n"
     ]
    }
   ],
   "source": [
    "import platform\n",
    "\n",
    "sysinfo = platform.uname()\n",
    "print(sysinfo)\n",
    "\n",
    "print()\n",
    "\n",
    "attributes = ['sysname', 'nodename', 'release', 'version', 'root','machine','processor']\n",
    "d = {attr : value for attr,value in zip(attributes, sysinfo)}\n",
    "for key in d:\n",
    "    print(\"{} -> {}\".format(key,d[key]))"
   ]
  },
  {
   "cell_type": "markdown",
   "metadata": {},
   "source": [
    "## User Environment "
   ]
  },
  {
   "cell_type": "markdown",
   "metadata": {},
   "source": [
    "### Finding the python executable"
   ]
  },
  {
   "cell_type": "code",
   "execution_count": 1,
   "metadata": {},
   "outputs": [
    {
     "name": "stdout",
     "output_type": "stream",
     "text": [
      "C:\\Users\\fr\\AppData\\Local\\Programs\\Python\\Python37\\python.exe\n"
     ]
    }
   ],
   "source": [
    "import sys\n",
    "\n",
    "print(sys.executable)"
   ]
  },
  {
   "cell_type": "markdown",
   "metadata": {},
   "source": [
    "### Checking environment variables"
   ]
  },
  {
   "cell_type": "markdown",
   "metadata": {},
   "source": [
    "**PATH**"
   ]
  },
  {
   "cell_type": "code",
   "execution_count": 5,
   "metadata": {},
   "outputs": [
    {
     "name": "stdout",
     "output_type": "stream",
     "text": [
      "PATH=C:\\Users\\fr\\AppData\\Roaming\\Python\\Python37\\site-packages\\pywin32_system32;C:\\Windows\\system32;C:\\Windows;C:\\Windows\\System32\\Wbem;C:\\Windows\\System32\\WindowsPowerShell\\v1.0\\;C:\\Windows\\System32\\OpenSSH\\;C:\\Program Files\\Git\\cmd;C:\\Users\\fr\\AppData\\Local\\Programs\\Python\\Python37\\Scripts\\;C:\\Users\\fr\\AppData\\Local\\Programs\\Python\\Python37\\;C:\\Users\\fr\\AppData\\Local\\Microsoft\\WindowsApps;\n",
      "\n",
      "PATH includes the following:\n",
      "-------------------------------\n",
      "C\n",
      "\\Users\\fr\\AppData\\Roaming\\Python\\Python37\\site-packages\\pywin32_system32;C\n",
      "\\Windows\\system32;C\n",
      "\\Windows;C\n",
      "\\Windows\\System32\\Wbem;C\n",
      "\\Windows\\System32\\WindowsPowerShell\\v1.0\\;C\n",
      "\\Windows\\System32\\OpenSSH\\;C\n",
      "\\Program Files\\Git\\cmd;C\n",
      "\\Users\\fr\\AppData\\Local\\Programs\\Python\\Python37\\Scripts\\;C\n",
      "\\Users\\fr\\AppData\\Local\\Programs\\Python\\Python37\\;C\n",
      "\\Users\\fr\\AppData\\Local\\Microsoft\\WindowsApps;\n"
     ]
    }
   ],
   "source": [
    "import os\n",
    "path = os.environ['PATH']\n",
    "\n",
    "print(f\"PATH={path}\")\n",
    "print(\"\\nPATH includes the following:\\n-------------------------------\")\n",
    "for location in path.split(':'):\n",
    "    print(location)"
   ]
  },
  {
   "cell_type": "markdown",
   "metadata": {},
   "source": [
    "**User HOME folder**"
   ]
  },
  {
   "cell_type": "code",
   "execution_count": 6,
   "metadata": {},
   "outputs": [
    {
     "ename": "KeyError",
     "evalue": "'HOME'",
     "output_type": "error",
     "traceback": [
      "\u001b[1;31m---------------------------------------------------------------------------\u001b[0m",
      "\u001b[1;31mKeyError\u001b[0m                                  Traceback (most recent call last)",
      "\u001b[1;32m<ipython-input-6-d9cf9d10f017>\u001b[0m in \u001b[0;36m<module>\u001b[1;34m\u001b[0m\n\u001b[0;32m      1\u001b[0m \u001b[1;32mimport\u001b[0m \u001b[0mos\u001b[0m\u001b[1;33m\u001b[0m\u001b[1;33m\u001b[0m\u001b[0m\n\u001b[1;32m----> 2\u001b[1;33m \u001b[0mprint\u001b[0m\u001b[1;33m(\u001b[0m\u001b[0mos\u001b[0m\u001b[1;33m.\u001b[0m\u001b[0menviron\u001b[0m\u001b[1;33m[\u001b[0m\u001b[1;34m'HOME'\u001b[0m\u001b[1;33m]\u001b[0m\u001b[1;33m)\u001b[0m\u001b[1;33m\u001b[0m\u001b[1;33m\u001b[0m\u001b[0m\n\u001b[0m",
      "\u001b[1;32m~\\AppData\\Local\\Programs\\Python\\Python37\\lib\\os.py\u001b[0m in \u001b[0;36m__getitem__\u001b[1;34m(self, key)\u001b[0m\n\u001b[0;32m    679\u001b[0m         \u001b[1;32mexcept\u001b[0m \u001b[0mKeyError\u001b[0m\u001b[1;33m:\u001b[0m\u001b[1;33m\u001b[0m\u001b[1;33m\u001b[0m\u001b[0m\n\u001b[0;32m    680\u001b[0m             \u001b[1;31m# raise KeyError with the original key value\u001b[0m\u001b[1;33m\u001b[0m\u001b[1;33m\u001b[0m\u001b[1;33m\u001b[0m\u001b[0m\n\u001b[1;32m--> 681\u001b[1;33m             \u001b[1;32mraise\u001b[0m \u001b[0mKeyError\u001b[0m\u001b[1;33m(\u001b[0m\u001b[0mkey\u001b[0m\u001b[1;33m)\u001b[0m \u001b[1;32mfrom\u001b[0m \u001b[1;32mNone\u001b[0m\u001b[1;33m\u001b[0m\u001b[1;33m\u001b[0m\u001b[0m\n\u001b[0m\u001b[0;32m    682\u001b[0m         \u001b[1;32mreturn\u001b[0m \u001b[0mself\u001b[0m\u001b[1;33m.\u001b[0m\u001b[0mdecodevalue\u001b[0m\u001b[1;33m(\u001b[0m\u001b[0mvalue\u001b[0m\u001b[1;33m)\u001b[0m\u001b[1;33m\u001b[0m\u001b[1;33m\u001b[0m\u001b[0m\n\u001b[0;32m    683\u001b[0m \u001b[1;33m\u001b[0m\u001b[0m\n",
      "\u001b[1;31mKeyError\u001b[0m: 'HOME'"
     ]
    }
   ],
   "source": [
    "import os\n",
    "print(os.environ['HOME'])"
   ]
  },
  {
   "cell_type": "markdown",
   "metadata": {},
   "source": [
    "**All** environment variables"
   ]
  },
  {
   "cell_type": "code",
   "execution_count": 7,
   "metadata": {},
   "outputs": [
    {
     "name": "stdout",
     "output_type": "stream",
     "text": [
      "ALLUSERSPROFILE=C:\\ProgramData\n",
      "APPDATA=C:\\Users\\fr\\AppData\\Roaming\n",
      "COMMONPROGRAMFILES=C:\\Program Files\\Common Files\n",
      "COMMONPROGRAMFILES(X86)=C:\\Program Files (x86)\\Common Files\n",
      "COMMONPROGRAMW6432=C:\\Program Files\\Common Files\n",
      "COMPUTERNAME=CB\n",
      "COMSPEC=C:\\Windows\\system32\\cmd.exe\n",
      "DRIVERDATA=C:\\Windows\\System32\\Drivers\\DriverData\n",
      "FPS_BROWSER_APP_PROFILE_STRING=Internet Explorer\n",
      "FPS_BROWSER_USER_PROFILE_STRING=Default\n",
      "HOMEDRIVE=C:\n",
      "HOMEPATH=\\Users\\fr\n",
      "LOCALAPPDATA=C:\\Users\\fr\\AppData\\Local\n",
      "LOGONSERVER=\\\\CB\n",
      "NUMBER_OF_PROCESSORS=4\n",
      "ONEDRIVE=C:\\Users\\fr\\OneDrive\n",
      "OS=Windows_NT\n",
      "PATH=C:\\Users\\fr\\AppData\\Roaming\\Python\\Python37\\site-packages\\pywin32_system32;C:\\Windows\\system32;C:\\Windows;C:\\Windows\\System32\\Wbem;C:\\Windows\\System32\\WindowsPowerShell\\v1.0\\;C:\\Windows\\System32\\OpenSSH\\;C:\\Program Files\\Git\\cmd;C:\\Users\\fr\\AppData\\Local\\Programs\\Python\\Python37\\Scripts\\;C:\\Users\\fr\\AppData\\Local\\Programs\\Python\\Python37\\;C:\\Users\\fr\\AppData\\Local\\Microsoft\\WindowsApps;\n",
      "PATHEXT=.COM;.EXE;.BAT;.CMD;.VBS;.VBE;.JS;.JSE;.WSF;.WSH;.MSC;.CPL\n",
      "PROCESSOR_ARCHITECTURE=AMD64\n",
      "PROCESSOR_IDENTIFIER=Intel64 Family 6 Model 142 Stepping 9, GenuineIntel\n",
      "PROCESSOR_LEVEL=6\n",
      "PROCESSOR_REVISION=8e09\n",
      "PROGRAMDATA=C:\\ProgramData\n",
      "PROGRAMFILES=C:\\Program Files\n",
      "PROGRAMFILES(X86)=C:\\Program Files (x86)\n",
      "PROGRAMW6432=C:\\Program Files\n",
      "PSMODULEPATH=C:\\Users\\fr\\Documents\\WindowsPowerShell\\Modules;C:\\Program Files\\WindowsPowerShell\\Modules;C:\\Windows\\system32\\WindowsPowerShell\\v1.0\\Modules\n",
      "PUBLIC=C:\\Users\\Public\n",
      "SESSIONNAME=Console\n",
      "SYSTEMDRIVE=C:\n",
      "SYSTEMROOT=C:\\Windows\n",
      "TEMP=C:\\Users\\fr\\AppData\\Local\\Temp\n",
      "TMP=C:\\Users\\fr\\AppData\\Local\\Temp\n",
      "USERDOMAIN=CB\n",
      "USERDOMAIN_ROAMINGPROFILE=CB\n",
      "USERNAME=fr\n",
      "USERPROFILE=C:\\Users\\fr\n",
      "WINDIR=C:\\Windows\n",
      "JPY_INTERRUPT_EVENT=3724\n",
      "IPY_INTERRUPT_EVENT=3724\n",
      "JPY_PARENT_PID=3736\n",
      "TERM=xterm-color\n",
      "CLICOLOR=1\n",
      "PAGER=cat\n",
      "GIT_PAGER=cat\n",
      "MPLBACKEND=module://ipykernel.pylab.backend_inline\n"
     ]
    }
   ],
   "source": [
    "import os\n",
    "\n",
    "for key in os.environ:\n",
    "    print(\"{}={}\".format(key,os.environ[key]))"
   ]
  },
  {
   "cell_type": "code",
   "execution_count": null,
   "metadata": {},
   "outputs": [],
   "source": []
  }
 ],
 "metadata": {
  "kernelspec": {
   "display_name": "Python 3",
   "language": "python",
   "name": "python3"
  },
  "language_info": {
   "codemirror_mode": {
    "name": "ipython",
    "version": 3
   },
   "file_extension": ".py",
   "mimetype": "text/x-python",
   "name": "python",
   "nbconvert_exporter": "python",
   "pygments_lexer": "ipython3",
   "version": "3.7.9"
  }
 },
 "nbformat": 4,
 "nbformat_minor": 4
}
